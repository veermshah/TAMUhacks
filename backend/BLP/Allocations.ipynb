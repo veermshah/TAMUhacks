{
  "nbformat": 4,
  "nbformat_minor": 0,
  "metadata": {
    "colab": {
      "provenance": []
    },
    "kernelspec": {
      "name": "python3",
      "display_name": "Python 3"
    },
    "language_info": {
      "name": "python"
    }
  },
  "cells": [
    {
      "cell_type": "code",
      "execution_count": null,
      "metadata": {
        "colab": {
          "base_uri": "https://localhost:8080/"
        },
        "id": "2Kmp9H4gsZyf",
        "outputId": "c7d2bb1d-dce9-47b8-f8f8-df19ee4ced88"
      },
      "outputs": [
        {
          "output_type": "stream",
          "name": "stderr",
          "text": [
            "<ipython-input-1-e53ebc4dd7e0>:13: FutureWarning: The default value of regex will change from True to False in a future version. In addition, single character regular expressions will *not* be treated as literal strings when regex=True.\n",
            "  tickers['Symbol'] = tickers['Symbol'].str.replace('.', '-')\n"
          ]
        },
        {
          "output_type": "stream",
          "name": "stdout",
          "text": [
            "[*********************100%%**********************]  503 of 503 completed\n",
            "13/13 [==============================] - 1s 3ms/step\n",
            "13/13 [==============================] - 1s 6ms/step\n",
            "13/13 [==============================] - 1s 3ms/step\n",
            "13/13 [==============================] - 1s 3ms/step\n",
            "13/13 [==============================] - 1s 3ms/step\n",
            "13/13 [==============================] - 1s 3ms/step\n",
            "13/13 [==============================] - 1s 3ms/step\n",
            "13/13 [==============================] - 1s 3ms/step\n",
            "13/13 [==============================] - 1s 3ms/step\n",
            "13/13 [==============================] - 1s 5ms/step\n",
            "13/13 [==============================] - 1s 3ms/step\n",
            "     Communication Services  Consumer Discretionary  Consumer Staples  \\\n",
            "0                  0.004715                0.006116          0.003769   \n",
            "1                 -0.012910               -0.015325         -0.006436   \n",
            "2                  0.001554                0.003305          0.001649   \n",
            "3                  0.007480                0.010724          0.004226   \n",
            "4                  0.008090                0.009452          0.004775   \n",
            "..                      ...                     ...               ...   \n",
            "410               -0.017830               -0.021027         -0.008863   \n",
            "411               -0.018438               -0.021958         -0.009727   \n",
            "412                0.007900                0.011871          0.004538   \n",
            "413                0.010882                0.015185          0.006588   \n",
            "414               -0.001300               -0.000017          0.000401   \n",
            "\n",
            "       Energy  Financials  Health Care  Industrials  Information Technology  \\\n",
            "0    0.005311    0.004764     0.004765     0.001815                0.004298   \n",
            "1   -0.014737   -0.017574    -0.010266    -0.016362               -0.016405   \n",
            "2    0.001203    0.000723     0.000166    -0.000802                0.000568   \n",
            "3    0.006722    0.008086     0.004668     0.005897                0.008035   \n",
            "4    0.007400    0.008728     0.004688     0.005075                0.006600   \n",
            "..        ...         ...          ...          ...                     ...   \n",
            "410 -0.015663   -0.021705    -0.015896    -0.022547               -0.021691   \n",
            "411 -0.019897   -0.022792    -0.015994    -0.021984               -0.024419   \n",
            "412  0.007136    0.008507     0.006103     0.007234                0.009724   \n",
            "413  0.011353    0.011906     0.008606     0.011155                0.012197   \n",
            "414 -0.000365   -0.001848    -0.001650    -0.002419               -0.002263   \n",
            "\n",
            "     Materials  Real Estate  Utilities  \n",
            "0    -0.001710     0.003499  -0.000136  \n",
            "1    -0.020209    -0.012342  -0.011677  \n",
            "2    -0.003029     0.001482  -0.002121  \n",
            "3     0.004590     0.007324   0.001707  \n",
            "4     0.005829     0.007337   0.001842  \n",
            "..         ...          ...        ...  \n",
            "410  -0.024387    -0.016735  -0.014532  \n",
            "411  -0.027039    -0.016489  -0.014646  \n",
            "412   0.004832     0.008886   0.002489  \n",
            "413   0.010415     0.012310   0.004716  \n",
            "414  -0.004145    -0.000457  -0.003590  \n",
            "\n",
            "[415 rows x 11 columns]\n"
          ]
        }
      ],
      "source": [
        "import numpy as np\n",
        "import pandas as pd\n",
        "import yfinance as yf\n",
        "from sklearn.model_selection import train_test_split\n",
        "from sklearn.preprocessing import MinMaxScaler\n",
        "import numpy as np\n",
        "from keras.layers import Dense, LSTM\n",
        "from keras.models import Sequential\n",
        "\n",
        "tickers = pd.read_html('https://en.wikipedia.org/wiki/List_of_S%26P_500_companies')[0][['Symbol', 'GICS Sector']]\n",
        "\n",
        "type(tickers['Symbol'])\n",
        "tickers['Symbol'] = tickers['Symbol'].str.replace('.', '-')\n",
        "tickers[tickers['Symbol'] == 'BF-B']\n",
        "\n",
        "sector_breakdown = tickers.groupby('GICS Sector')['Symbol'].apply(list)\n",
        "sector_breakdown = sector_breakdown.to_dict()\n",
        "\n",
        "ticker_list = []\n",
        "for sector in sector_breakdown:\n",
        "    ticker_list.extend(sector_breakdown[sector])\n",
        "\n",
        "today = pd.Timestamp.today().strftime('%Y-%m-%d')\n",
        "month_ago = pd.Timestamp.today() - pd.DateOffset(months=60)\n",
        "\n",
        "data = yf.download(ticker_list, start=month_ago, end=today)\n",
        "data = data.drop(columns=['Open', 'High', 'Low', 'Close', 'Volume'])\n",
        "\n",
        "#update with bfill and ffill method instead\n",
        "data = data.fillna(method='bfill', axis=0)\n",
        "data = data.fillna(method='ffill', axis=0)\n",
        "\n",
        "returns = data.pct_change()\n",
        "returns = returns.droplevel(0, axis=1)\n",
        "\n",
        "raw_data = {}\n",
        "\n",
        "for sector, tickers in sector_breakdown.items():\n",
        "    sector_data = returns[tickers]\n",
        "    raw_data[sector] = sector_data.mean(axis=1)\n",
        "\n",
        "raw_data = pd.DataFrame(raw_data)\n",
        "\n",
        "raw_data = raw_data.dropna()\n",
        "raw_data\n",
        "results = pd.DataFrame(columns=raw_data.columns)\n",
        "\n",
        "for i, column in enumerate(raw_data.columns):\n",
        "    y = raw_data[column]\n",
        "    X = raw_data.drop(column, axis=1)\n",
        "\n",
        "    scaler_x = MinMaxScaler()\n",
        "    scaler_y = MinMaxScaler()\n",
        "\n",
        "    X_scaled = scaler_x.fit_transform(X)\n",
        "    y_scaled = scaler_y.fit_transform(y.values.reshape(-1, 1))\n",
        "\n",
        "    X_scaled = X_scaled.reshape(X_scaled.shape[0], X_scaled.shape[1], 1)\n",
        "\n",
        "    X_train, X_test, y_train, y_test = train_test_split(X_scaled, y_scaled, test_size=0.33, random_state=42)\n",
        "\n",
        "    model = Sequential()\n",
        "    model.add(LSTM(units=5, return_sequences=True, input_shape=(X_train.shape[1], 1)))\n",
        "    model.add(LSTM(units=5, return_sequences=False))\n",
        "    model.add(Dense(units=25))\n",
        "    model.add(Dense(units=1))\n",
        "\n",
        "    model.compile(optimizer='adam', loss='mean_squared_error', metrics=['accuracy'])\n",
        "\n",
        "    set_epoch = 20\n",
        "    train = model.fit(X_train, y_train, batch_size=16, epochs=set_epoch, validation_split=0.1, verbose=0)\n",
        "    raw_predictions = model.predict(X_test)\n",
        "    pred = scaler_y.inverse_transform(raw_predictions)\n",
        "\n",
        "    results[column] = pred.flatten()\n",
        "\n",
        "print(results)\n"
      ]
    },
    {
      "cell_type": "code",
      "source": [
        "# Average the last 30 rows for each sector\n",
        "average_results = results.tail(30).mean()\n",
        "\n",
        "# Replace negative values with 0\n",
        "average_results[average_results < 0] = 0\n",
        "\n"
      ],
      "metadata": {
        "colab": {
          "base_uri": "https://localhost:8080/"
        },
        "id": "9wCGyyzgsa15",
        "outputId": "f875867a-8c72-4ce5-b588-c278996d4130"
      },
      "execution_count": null,
      "outputs": [
        {
          "output_type": "stream",
          "name": "stdout",
          "text": [
            "Communication Services    7.492996e-06\n",
            "Consumer Discretionary    2.410326e-05\n",
            "Consumer Staples          1.092777e-05\n",
            "Energy                    5.775695e-06\n",
            "Financials                2.633400e-06\n",
            "Health Care               4.029103e-07\n",
            "Industrials               0.000000e+00\n",
            "Information Technology    2.806135e-06\n",
            "Materials                 0.000000e+00\n",
            "Real Estate               1.252185e-05\n",
            "Utilities                 0.000000e+00\n",
            "dtype: float32\n"
          ]
        }
      ]
    },
    {
      "cell_type": "code",
      "source": [
        "# Sum of the averaged results\n",
        "sum_results = average_results.sum()\n",
        "\n",
        "# Calculate the percentage of the sum for each sector\n",
        "allocations = (average_results / sum_results)\n",
        "\n",
        "# Display the percentage results\n",
        "print(allocations)\n",
        "\n",
        "# Convert allocations to a NumPy array\n",
        "allocations_array = np.array(allocations)"
      ],
      "metadata": {
        "colab": {
          "base_uri": "https://localhost:8080/"
        },
        "id": "KTi6uX9jpzxL",
        "outputId": "231b763b-1500-401f-ede8-aa06ffd2ed3a"
      },
      "execution_count": null,
      "outputs": [
        {
          "output_type": "stream",
          "name": "stdout",
          "text": [
            "Communication Services    0.112399\n",
            "Consumer Discretionary    0.361563\n",
            "Consumer Staples          0.163923\n",
            "Energy                    0.086639\n",
            "Financials                0.039503\n",
            "Health Care               0.006044\n",
            "Industrials               0.000000\n",
            "Information Technology    0.042094\n",
            "Materials                 0.000000\n",
            "Real Estate               0.187835\n",
            "Utilities                 0.000000\n",
            "dtype: float32\n"
          ]
        }
      ]
    },
    {
      "cell_type": "code",
      "source": [
        "p = [\n",
        "    [1, 0, 0, 0, 0, 0, 0, 0, 0, 0, 0],\n",
        "  [0, 1, 0, 0, 0, 0, 0, 0, 0, 0, 0],\n",
        "  [0, 0, 1, 0, 0, 0, 0, 0, 0, 0, 0],\n",
        "  [0, 0, 0, 1, 0, 0, 0, 0, 0, 0, 0],\n",
        "  [0, 0, 0, 0, 1, 0, 0, 0, 0, 0, 0],\n",
        "  [0, 0, 0, 0, 0, 1, 0, 0, 0, 0, 0],\n",
        "  [0, 0, 0, 0, 0, 0, 1, 0, 0, 0, 0],\n",
        "  [0, 0, 0, 0, 0, 0, 0, 1, 0, 0, 0],\n",
        "  [0, 0, 0, 0, 0, 0, 0, 0, 1, 0, 0],\n",
        "  [0, 0, 0, 0, 0, 0, 0, 0, 0, 1, 0],\n",
        "  [0, 0, 0, 0, 0, 0, 0, 0, 0, 0, 1]\n",
        "]\n",
        "\n",
        "q = allocations_array\n",
        "\n",
        "print(p)\n",
        "print(q)\n"
      ],
      "metadata": {
        "colab": {
          "base_uri": "https://localhost:8080/"
        },
        "id": "sw0gyWMnq2pm",
        "outputId": "2cd5fa02-2a97-45c7-e760-f8706b90d2f7"
      },
      "execution_count": null,
      "outputs": [
        {
          "output_type": "stream",
          "name": "stdout",
          "text": [
            "[[1, 0, 0, 0, 0, 0, 0, 0, 0, 0, 0], [0, 1, 0, 0, 0, 0, 0, 0, 0, 0, 0], [0, 0, 1, 0, 0, 0, 0, 0, 0, 0, 0], [0, 0, 0, 1, 0, 0, 0, 0, 0, 0, 0], [0, 0, 0, 0, 1, 0, 0, 0, 0, 0, 0], [0, 0, 0, 0, 0, 1, 0, 0, 0, 0, 0], [0, 0, 0, 0, 0, 0, 1, 0, 0, 0, 0], [0, 0, 0, 0, 0, 0, 0, 1, 0, 0, 0], [0, 0, 0, 0, 0, 0, 0, 0, 1, 0, 0], [0, 0, 0, 0, 0, 0, 0, 0, 0, 1, 0], [0, 0, 0, 0, 0, 0, 0, 0, 0, 0, 1]]\n",
            "[0.11239941 0.36156324 0.16392313 0.08663887 0.03950256 0.0060439\n",
            " 0.         0.0420937  0.         0.1878352  0.        ]\n"
          ]
        }
      ]
    }
  ]
}